{
 "cells": [
  {
   "cell_type": "code",
   "execution_count": 54,
   "metadata": {},
   "outputs": [],
   "source": [
    "# IMPORTS\n",
    "\n",
    "import numpy as np\n",
    "from pyfiglet import Figlet"
   ]
  },
  {
   "cell_type": "code",
   "execution_count": 35,
   "metadata": {},
   "outputs": [],
   "source": [
    "# CHARACTERISTICS\n",
    "\n",
    "average_canadian_lifespan = 81.3\n",
    "first_memories = 3\n",
    "coma = [24, 25]\n",
    "memory_fog_start = 60\n",
    "covid = True\n",
    "smoker = False\n",
    "waterloo_student = True\n",
    "drinks_per_year = 100\n",
    "drinking = [19, 50]\n",
    "\n",
    "lifespan = average_canadian_lifespan\n",
    "if smoker:\n",
    "    lifespan -= 10"
   ]
  },
  {
   "cell_type": "code",
   "execution_count": null,
   "metadata": {},
   "outputs": [],
   "source": [
    "# SIMULATION\n",
    "\n",
    "# {block_size}-year blocks (degree of accuracy)\n",
    "block_size = 80\n",
    "\n",
    "perceived_lives = 0\n",
    "for i in np.arange(first_memories+(block_size/2), lifespan+(block_size/2), block_size):\n",
    "    block = block_size\n",
    "    if coma[0] <= i <= coma[1]:\n",
    "        block *= 0\n",
    "    if i >= memory_fog_start:\n",
    "        block *= 0.5\n",
    "    if waterloo_student and 18 < i < 23:\n",
    "        block *= 0.75\n",
    "    perceived_lives += block / (perceived_lives + block)\n",
    "\n",
    "# for midlife: 2, for quarterlife: 4, etc.\n",
    "crisis_multiple = 2\n",
    "\n",
    "tmp = 0\n",
    "for i in np.arange(first_memories+(block_size/2), lifespan+(block_size/2), block_size):\n",
    "    block = block_size\n",
    "    if coma[0] <= i <= coma[1]:\n",
    "        block *= 0\n",
    "    if i >= memory_fog_start:\n",
    "        block *= 0.5\n",
    "    if waterloo_student and 18 < i < 23:\n",
    "        block *= 0.75\n",
    "    tmp += block_size / (tmp + block_size)\n",
    "    if tmp > perceived_lives / crisis_multiple:\n",
    "        fig = Figlet(font='big')\n",
    "        print(fig.renderText(f\"Midlife crisis at {i} years old\"))\n",
    "        break"
   ]
  },
  {
   "cell_type": "code",
   "execution_count": 52,
   "metadata": {},
   "outputs": [
    {
     "data": {
      "image/png": "[encoded data removed]",
      "text/plain": [
       "<Figure size 800x300 with 1 Axes>"
      ]
     },
     "metadata": {},
     "output_type": "display_data"
    }
   ],
   "source": [
    "# VIZ\n",
    "\n",
    "import matplotlib.pyplot as plt\n",
    "import matplotlib.patches as patches\n",
    "\n",
    "# Define section boundaries (the edges of each section)\n",
    "boundaries = [0, 80]\n",
    "# boundaries = [0, 20, 40, 60, 80]\n",
    "# boundaries = [0, 5, 10, 15, 20, 25, 30, 35, 40, 45, 50, 55, 60, 65, 70, 75, 80]\n",
    "\n",
    "# Calculate midpoints of each section (i.e., the center between two boundaries)\n",
    "midpoints = [(boundaries[i] + boundaries[i+1]) / 2 for i in range(len(boundaries) - 1)]\n",
    "\n",
    "# Create a figure and axis for the plot\n",
    "fig, ax = plt.subplots(figsize=(8, 3))\n",
    "\n",
    "# Define the horizontal range for the scale with some padding\n",
    "x_min = min(boundaries) - 1\n",
    "x_max = max(boundaries) + 1\n",
    "\n",
    "# Draw the horizontal scale as a rectangle\n",
    "scale_height = 0.5  # Controls the vertical thickness of the scale\n",
    "ax.add_patch(patches.Rectangle(\n",
    "    (x_min, -scale_height / 2),  # Lower left corner (x, y)\n",
    "    x_max - x_min,               # Width of the rectangle\n",
    "    scale_height,                # Height of the rectangle\n",
    "    color='lightgray',\n",
    "    alpha=0.5,\n",
    "    label='Years'\n",
    "))\n",
    "\n",
    "# Draw a prominent horizontal line along the center of the scale\n",
    "ax.axhline(y=0, color='black', linewidth=2)\n",
    "\n",
    "# (Optional) Draw vertical dashed lines at each boundary\n",
    "for x in boundaries:\n",
    "    ax.axvline(x=x, color='gray', linestyle='--', alpha=0.7)\n",
    "\n",
    "# Plot the dots at the midpoints of each section (i.e., the center of each block)\n",
    "for x in midpoints:\n",
    "    ax.scatter(x, 0, color='blue', zorder=5, s=100)  # Adjust s for dot size\n",
    "\n",
    "# Remove y-axis ticks since only the horizontal scale matters\n",
    "ax.set_yticks([])\n",
    "\n",
    "# Set x-axis limits to provide proper padding around the scale\n",
    "ax.set_xlim(x_min, x_max)\n",
    "\n",
    "# Add title and legend\n",
    "ax.set_title(\"Your Life\")\n",
    "ax.legend()\n",
    "\n",
    "# Display the plot\n",
    "plt.show()\n"
   ]
  }
 ],
 "metadata": {
  "kernelspec": {
   "display_name": "Python 3",
   "language": "python",
   "name": "python3"
  },
  "language_info": {
   "codemirror_mode": {
    "name": "ipython",
    "version": 3
   },
   "file_extension": ".py",
   "mimetype": "text/x-python",
   "name": "python",
   "nbconvert_exporter": "python",
   "pygments_lexer": "ipython3",
   "version": "3.13.1"
  }
 },
 "nbformat": 4,
 "nbformat_minor": 2
}
