{
 "cells": [
  {
   "cell_type": "code",
   "execution_count": null,
   "metadata": {},
   "outputs": [],
   "source": [
    "# CHARACTERISTICS\n",
    "average_canadian_lifespan = 81.3\n",
    "first_memories = 3\n",
    "coma = [24, 25]\n",
    "memory_fog_start = 60\n",
    "covid = True\n",
    "\n",
    "lifespan = average_canadian_lifespan"
   ]
  },
  {
   "cell_type": "code",
   "execution_count": null,
   "metadata": {},
   "outputs": [],
   "source": [
    "# CALCULATOR\n",
    "for i in range(first_memories, lifespan):\n",
    "    d"
   ]
  }
 ],
 "metadata": {
  "language_info": {
   "name": "python"
  }
 },
 "nbformat": 4,
 "nbformat_minor": 2
}
